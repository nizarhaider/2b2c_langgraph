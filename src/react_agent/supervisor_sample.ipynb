{
 "cells": [
  {
   "cell_type": "code",
   "execution_count": 32,
   "metadata": {},
   "outputs": [],
   "source": [
    "from langchain_openai import ChatOpenAI\n",
    "from langchain import hub\n",
    "from langgraph_supervisor import create_supervisor\n",
    "from langgraph.prebuilt import create_react_agent\n",
    "\n",
    "from IPython.display import Image, display\n",
    "from langchain_core.runnables.graph import CurveStyle, MermaidDrawMethod, NodeStyles\n",
    "from langchain_community.tools import TavilySearchResults\n",
    "from langchain_community.agent_toolkits import create_sql_agent, SQLDatabaseToolkit\n",
    "from langchain_community.utilities import SQLDatabase\n",
    "from langchain_pinecone import PineconeVectorStore\n",
    "from langchain_openai import OpenAIEmbeddings\n",
    "from pinecone import Pinecone, ServerlessSpec\n",
    "from langchain_openai import OpenAIEmbeddings\n",
    "from langchain.agents import AgentType, initialize_agent\n",
    "from langchain_community.tools.yahoo_finance_news import YahooFinanceNewsTool\n",
    "\n",
    "import os"
   ]
  },
  {
   "cell_type": "code",
   "execution_count": 13,
   "metadata": {},
   "outputs": [],
   "source": [
    "# Initialize model\n",
    "model = ChatOpenAI(model=\"gpt-4o-mini\")\n",
    "embeddings = OpenAIEmbeddings(model=\"text-embedding-3-small\")\n"
   ]
  },
  {
   "cell_type": "code",
   "execution_count": 14,
   "metadata": {},
   "outputs": [],
   "source": [
    "import bs4\n",
    "from langchain import hub\n",
    "from langchain_community.document_loaders import WebBaseLoader\n",
    "from langchain_core.documents import Document\n",
    "from langchain_text_splitters import RecursiveCharacterTextSplitter\n",
    "from typing_extensions import List, TypedDict\n",
    "\n",
    "# Load and chunk contents of the blog\n",
    "loader = WebBaseLoader(\n",
    "    web_paths=(\"https://lilianweng.github.io/posts/2023-06-23-agent/\",),\n",
    "    bs_kwargs=dict(\n",
    "        parse_only=bs4.SoupStrainer(\n",
    "            class_=(\"post-content\", \"post-title\", \"post-header\")\n",
    "        )\n",
    "    ),\n",
    ")\n",
    "docs = loader.load()\n",
    "\n",
    "text_splitter = RecursiveCharacterTextSplitter(chunk_size=1000, chunk_overlap=200)\n",
    "all_splits = text_splitter.split_documents(docs)\n"
   ]
  },
  {
   "cell_type": "code",
   "execution_count": 15,
   "metadata": {},
   "outputs": [],
   "source": [
    "from langchain_core.tools import tool\n",
    "\n",
    "\n",
    "pc = Pinecone(api_key=os.getenv(\"PINECONE_API_KEY\"))\n",
    "\n",
    "index = pc.Index('agent-hackathon')\n",
    "vector_store = PineconeVectorStore(embedding=embeddings, index=index)\n",
    "\n",
    "# Index chunks\n",
    "_ = vector_store.add_documents(documents=all_splits)\n",
    "\n",
    "@tool(response_format=\"content_and_artifact\")\n",
    "def retrieve(query: str):\n",
    "    \"\"\"Retrieve information related to a query.\"\"\"\n",
    "    retrieved_docs = vector_store.similarity_search(query, k=2)\n",
    "    serialized = \"\\n\\n\".join(\n",
    "        (f\"Source: {doc.metadata}\\n\" f\"Content: {doc.page_content}\")\n",
    "        for doc in retrieved_docs\n",
    "    )\n",
    "    return serialized, retrieved_docs"
   ]
  },
  {
   "cell_type": "code",
   "execution_count": null,
   "metadata": {},
   "outputs": [],
   "source": [
    "db = SQLDatabase.from_uri(\"sqlite:///db/product_demo.db\")\n"
   ]
  },
  {
   "cell_type": "code",
   "execution_count": null,
   "metadata": {},
   "outputs": [],
   "source": [
    "sql_toolkit = SQLDatabaseToolkit(db=db, llm=model)\n",
    "\n",
    "web_search = TavilySearchResults(\n",
    "        max_results=5,\n",
    "        search_depth=\"advanced\",\n",
    "        include_answer=True,\n",
    "        include_raw_content=True,\n",
    "        include_images=False,\n",
    "        # include_domains=[...],\n",
    "        # exclude_domains=[...],\n",
    "        # name=\"...\",            # overwrite default tool name\n",
    "        # description=\"...\",     # overwrite default tool description\n",
    "        # args_schema=...,       # overwrite default args_schema: BaseModel\n",
    "    )\n",
    "\n",
    "yh_tools = [YahooFinanceNewsTool()]"
   ]
  },
  {
   "cell_type": "code",
   "execution_count": 30,
   "metadata": {},
   "outputs": [
    {
     "data": {
      "image/png": "[encoded data removed]",
      "text/plain": [
       "<IPython.core.display.Image object>"
      ]
     },
     "metadata": {},
     "output_type": "display_data"
    }
   ],
   "source": [
    "research_agent = create_react_agent(\n",
    "    model=model,\n",
    "    tools=[web_search],\n",
    "    name=\"research_expert\",\n",
    "    prompt=\"You are a world class researcher with access to web search. Do not do any math.\"\n",
    ")\n",
    "\n",
    "prompt_template = hub.pull(\"langchain-ai/sql-agent-system-prompt\")  \n",
    "system_message = prompt_template.format(dialect=\"SQLite\", top_k=5) \n",
    "\n",
    "sql_agent = create_react_agent(\n",
    "    model=model, \n",
    "    name='sql_agent',\n",
    "    tools=sql_toolkit.get_tools(),\n",
    "    prompt=system_message\n",
    ")\n",
    "\n",
    "rag_agent = create_react_agent(model, [retrieve], name=\"rag_agent\")\n",
    "\n",
    "yh_agent = create_react_agent(\n",
    "    name=\"yh_agent\",\n",
    "    model=model,\n",
    "    tools=yh_tools,\n",
    ")\n",
    "\n",
    "\n",
    "# Create supervisor workflow\n",
    "workflow = create_supervisor(\n",
    "    [research_agent, sql_agent, yh_agent],\n",
    "    model=model,\n",
    "    prompt=(\n",
    "        \"You are a team supervisor managing a research expert and a sql expert connected to a product database and a rag agent that has information on an article LLM Powered Autonomous Agents.\"\n",
    "        \"For current events, use research_agent. \"\n",
    "        \"For learning about products from database use sql_agent.\"\n",
    "        \"For questions on the LLM Powered Autonomous Agents paper use rag_agent.\"\n",
    "    )\n",
    ")\n",
    "\n",
    "app = workflow.compile()\n",
    "\n",
    "display(\n",
    "    Image(\n",
    "        app.get_graph().draw_mermaid_png(\n",
    "            draw_method=MermaidDrawMethod.API,\n",
    "        )\n",
    "    )\n",
    ")"
   ]
  },
  {
   "cell_type": "code",
   "execution_count": 21,
   "metadata": {},
   "outputs": [],
   "source": [
    "result = app.invoke({\n",
    "    \"messages\": [\n",
    "        {\n",
    "            \"role\": \"user\",\n",
    "            \"content\": \"What is the standard method for Task Decomposition based on the LLM Powered Autonomous Agents paper? vs what's on the internet?\"\n",
    "        }\n",
    "    ]\n",
    "})"
   ]
  },
  {
   "cell_type": "code",
   "execution_count": 22,
   "metadata": {},
   "outputs": [
    {
     "data": {
      "text/plain": [
       "{'messages': [HumanMessage(content=\"What is the standard method for Task Decomposition based on the LLM Powered Autonomous Agents paper? vs what's on the internet?\", additional_kwargs={}, response_metadata={}, id='41ff5f88-16c3-44f2-acc0-00ad1fe794c2'),\n",
       "  AIMessage(content='', additional_kwargs={'tool_calls': [{'id': 'call_Lb5iHCrHZw9h2q01yqn5mNhp', 'function': {'arguments': '{}', 'name': 'transfer_to_rag_agent'}, 'type': 'function'}], 'refusal': None}, response_metadata={'token_usage': {'completion_tokens': 14, 'prompt_tokens': 163, 'total_tokens': 177, 'completion_tokens_details': {'accepted_prediction_tokens': 0, 'audio_tokens': 0, 'reasoning_tokens': 0, 'rejected_prediction_tokens': 0}, 'prompt_tokens_details': {'audio_tokens': 0, 'cached_tokens': 0}}, 'model_name': 'gpt-4o-mini-2024-07-18', 'system_fingerprint': 'fp_06737a9306', 'finish_reason': 'tool_calls', 'logprobs': None}, name='supervisor', id='run-898421fd-49b9-41bb-a6f6-0a8f6a31d22b-0', tool_calls=[{'name': 'transfer_to_rag_agent', 'args': {}, 'id': 'call_Lb5iHCrHZw9h2q01yqn5mNhp', 'type': 'tool_call'}], usage_metadata={'input_tokens': 163, 'output_tokens': 14, 'total_tokens': 177, 'input_token_details': {'audio': 0, 'cache_read': 0}, 'output_token_details': {'audio': 0, 'reasoning': 0}}),\n",
       "  ToolMessage(content='Successfully transferred to rag_agent', name='transfer_to_rag_agent', id='99f0fad7-e4bf-47ce-9ada-7b122ab68a9d', tool_call_id='call_Lb5iHCrHZw9h2q01yqn5mNhp'),\n",
       "  AIMessage(content='The standard method for Task Decomposition based on the \"LLM Powered Autonomous Agents\" paper includes the following components:\\n\\n1. **Chain of Thought (CoT)**: This method encourages the model to break down complex tasks into smaller, manageable steps by instructing it to \"think step by step.\" This approach enhances the model\\'s performance and provides insight into its decision-making process.\\n\\n2. **Tree of Thoughts (ToT)**: An extension of CoT, this approach involves generating multiple possible reasoning paths at each step, effectively creating a tree structure of thought. The problem is decomposed into several steps, with multiple thoughts generated at each step. The exploration of these options can use either breadth-first search (BFS) or depth-first search (DFS) to evaluate each state, often through classifiers or voting mechanisms.\\n\\n3. **Methods of Decomposition**: Task decomposition can occur in various ways:\\n   - Using simple prompting, such as asking for steps or subgoals.\\n   - Implementing task-specific instructions, such as asking for a \"story outline\" for writing tasks.\\n   - Involving human inputs to guide the decomposition process.\\n\\nComparatively, what is generally found on the internet may not always provide as structured or nuanced a method for task decomposition in LLMs. While many discussions on AI task decomposition exist, they might focus more on heuristic approaches or generalized strategies without delving into the specific techniques and frameworks (like CoT and ToT) put forth in recent research. The insights from the LLM Powered Autonomous Agents paper are built on systematic methodologies that reflect the latest advancements and research in the field.', additional_kwargs={'refusal': None}, response_metadata={'token_usage': {'completion_tokens': 328, 'prompt_tokens': 868, 'total_tokens': 1196, 'completion_tokens_details': {'accepted_prediction_tokens': 0, 'audio_tokens': 0, 'reasoning_tokens': 0, 'rejected_prediction_tokens': 0}, 'prompt_tokens_details': {'audio_tokens': 0, 'cached_tokens': 0}}, 'model_name': 'gpt-4o-mini-2024-07-18', 'system_fingerprint': 'fp_06737a9306', 'finish_reason': 'stop', 'logprobs': None}, name='rag_agent', id='run-0a7f2ac8-e47d-4961-a0ce-903e728c0b90-0', usage_metadata={'input_tokens': 868, 'output_tokens': 328, 'total_tokens': 1196, 'input_token_details': {'audio': 0, 'cache_read': 0}, 'output_token_details': {'audio': 0, 'reasoning': 0}}),\n",
       "  AIMessage(content='Transferring back to supervisor', additional_kwargs={}, response_metadata={}, name='rag_agent', id='c604a3df-d774-47c2-a30c-b8a3137e7464', tool_calls=[{'name': 'transfer_back_to_supervisor', 'args': {}, 'id': '69f91f1e-c00d-4756-b640-892660f0ee1a', 'type': 'tool_call'}]),\n",
       "  ToolMessage(content='Successfully transferred back to supervisor', name='transfer_back_to_supervisor', id='43cef203-2042-4f21-bca0-9c527a70e4ef', tool_call_id='69f91f1e-c00d-4756-b640-892660f0ee1a'),\n",
       "  AIMessage(content='The standard method for Task Decomposition based on the \"LLM Powered Autonomous Agents\" paper emphasizes structured approaches such as the Chain of Thought (CoT) and Tree of Thoughts (ToT) methods. In contrast, online resources might not provide as detailed or systematic frameworks, focusing on more heuristic or generalized strategies.', additional_kwargs={'refusal': None}, response_metadata={'token_usage': {'completion_tokens': 65, 'prompt_tokens': 573, 'total_tokens': 638, 'completion_tokens_details': {'accepted_prediction_tokens': 0, 'audio_tokens': 0, 'reasoning_tokens': 0, 'rejected_prediction_tokens': 0}, 'prompt_tokens_details': {'audio_tokens': 0, 'cached_tokens': 0}}, 'model_name': 'gpt-4o-mini-2024-07-18', 'system_fingerprint': 'fp_06737a9306', 'finish_reason': 'stop', 'logprobs': None}, name='supervisor', id='run-1b24342e-c96d-4c4f-b3b8-71c90a58463d-0', usage_metadata={'input_tokens': 573, 'output_tokens': 65, 'total_tokens': 638, 'input_token_details': {'audio': 0, 'cache_read': 0}, 'output_token_details': {'audio': 0, 'reasoning': 0}})]}"
      ]
     },
     "execution_count": 22,
     "metadata": {},
     "output_type": "execute_result"
    }
   ],
   "source": [
    "result"
   ]
  },
  {
   "cell_type": "code",
   "execution_count": null,
   "metadata": {},
   "outputs": [],
   "source": []
  }
 ],
 "metadata": {
  "kernelspec": {
   "display_name": ".venv",
   "language": "python",
   "name": "python3"
  },
  "language_info": {
   "codemirror_mode": {
    "name": "ipython",
    "version": 3
   },
   "file_extension": ".py",
   "mimetype": "text/x-python",
   "name": "python",
   "nbconvert_exporter": "python",
   "pygments_lexer": "ipython3",
   "version": "3.12.8"
  }
 },
 "nbformat": 4,
 "nbformat_minor": 2
}
