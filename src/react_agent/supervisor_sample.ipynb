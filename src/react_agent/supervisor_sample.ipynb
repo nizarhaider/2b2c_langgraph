{
 "cells": [
  {
   "cell_type": "code",
   "execution_count": null,
   "metadata": {},
   "outputs": [],
   "source": [
    "from langchain_openai import ChatOpenAI\n",
    "from langchain import hub\n",
    "from langgraph_supervisor import create_supervisor\n",
    "from langgraph.prebuilt import create_react_agent\n",
    "\n",
    "from IPython.display import Image, display\n",
    "from langchain_core.runnables.graph import CurveStyle, MermaidDrawMethod, NodeStyles\n",
    "from langchain_community.tools import TavilySearchResults\n",
    "from langchain_community.agent_toolkits import create_sql_agent, SQLDatabaseToolkit\n",
    "from langchain_community.utilities import SQLDatabase\n",
    "from langchain_pinecone import PineconeVectorStore\n",
    "from langchain_openai import OpenAIEmbeddings\n",
    "from pinecone import Pinecone\n"
   ]
  },
  {
   "cell_type": "code",
   "execution_count": 72,
   "metadata": {},
   "outputs": [],
   "source": [
    "# Initialize model\n",
    "model = ChatOpenAI(model=\"gpt-4o-mini\")"
   ]
  },
  {
   "cell_type": "code",
   "execution_count": null,
   "metadata": {},
   "outputs": [],
   "source": [
    "pc = Pinecone()\n",
    "index = pc.Index(index_name)\n",
    "\n",
    "vector_store = PineconeVectorStore(embedding=embeddings, index=index)"
   ]
  },
  {
   "cell_type": "code",
   "execution_count": 74,
   "metadata": {},
   "outputs": [],
   "source": [
    "db = SQLDatabase.from_uri(\"sqlite:///db/product_demo.db\")\n",
    "# print(db.dialect)\n",
    "# print(db.get_usable_table_names())\n",
    "# db.run(\"SELECT * FROM Products LIMIT 10;\")"
   ]
  },
  {
   "cell_type": "code",
   "execution_count": null,
   "metadata": {},
   "outputs": [],
   "source": [
    "sql_toolkit = SQLDatabaseToolkit(db=db, llm=model)\n",
    "\n",
    "web_search = TavilySearchResults(\n",
    "        max_results=5,\n",
    "        search_depth=\"advanced\",\n",
    "        include_answer=True,\n",
    "        include_raw_content=True,\n",
    "        include_images=False,\n",
    "        # include_domains=[...],\n",
    "        # exclude_domains=[...],\n",
    "        # name=\"...\",            # overwrite default tool name\n",
    "        # description=\"...\",     # overwrite default tool description\n",
    "        # args_schema=...,       # overwrite default args_schema: BaseModel\n",
    "    )"
   ]
  },
  {
   "cell_type": "code",
   "execution_count": 68,
   "metadata": {},
   "outputs": [
    {
     "name": "stderr",
     "output_type": "stream",
     "text": [
      "/Users/nizar/Documents/Projects/langgraph-fullstack-python/.venv/lib/python3.12/site-packages/langsmith/client.py:253: LangSmithMissingAPIKeyWarning: API key must be provided when using hosted LangSmith API\n",
      "  warnings.warn(\n"
     ]
    },
    {
     "data": {
      "image/png": "[encoded data removed]",
      "text/plain": [
       "<IPython.core.display.Image object>"
      ]
     },
     "metadata": {},
     "output_type": "display_data"
    }
   ],
   "source": [
    "research_agent = create_react_agent(\n",
    "    model=model,\n",
    "    tools=[web_search],\n",
    "    name=\"research_expert\",\n",
    "    prompt=\"You are a world class researcher with access to web search. Do not do any math.\"\n",
    ")\n",
    "\n",
    "prompt_template = hub.pull(\"langchain-ai/sql-agent-system-prompt\")  \n",
    "system_message = prompt_template.format(dialect=\"SQLite\", top_k=5) \n",
    "\n",
    "sql_agent = create_react_agent(\n",
    "    model=model, \n",
    "    name='sql_agent',\n",
    "    tools=sql_toolkit.get_tools(),\n",
    "    prompt=system_message\n",
    ")\n",
    "\n",
    "# Create supervisor workflow\n",
    "workflow = create_supervisor(\n",
    "    [research_agent, sql_agent],\n",
    "    model=model,\n",
    "    prompt=(\n",
    "        \"You are a team supervisor managing a research expert and a sql expert connected to a product database.\"\n",
    "        \"For current events, use research_agent. \"\n",
    "        \"For learning about products from database use sql_agent.\"\n",
    "    )\n",
    ")\n",
    "\n",
    "\n",
    "app = workflow.compile()\n",
    "\n",
    "display(\n",
    "    Image(\n",
    "        app.get_graph().draw_mermaid_png(\n",
    "            draw_method=MermaidDrawMethod.API,\n",
    "        )\n",
    "    )\n",
    ")"
   ]
  },
  {
   "cell_type": "code",
   "execution_count": 69,
   "metadata": {},
   "outputs": [],
   "source": [
    "result = app.invoke({\n",
    "    \"messages\": [\n",
    "        {\n",
    "            \"role\": \"user\",\n",
    "            \"content\": \"What is your most cheapest product?\"\n",
    "        }\n",
    "    ]\n",
    "})"
   ]
  },
  {
   "cell_type": "code",
   "execution_count": 70,
   "metadata": {},
   "outputs": [
    {
     "data": {
      "text/plain": [
       "{'messages': [HumanMessage(content='What is your most cheapest product?', additional_kwargs={}, response_metadata={}, id='c821c848-3590-4509-98a0-ca09563d5f83'),\n",
       "  AIMessage(content='', additional_kwargs={'tool_calls': [{'id': 'call_1dZaC74BBFX3AqvNgF04mhZX', 'function': {'arguments': '{}', 'name': 'transfer_to_sql_agent'}, 'type': 'function'}], 'refusal': None}, response_metadata={'token_usage': {'completion_tokens': 13, 'prompt_tokens': 100, 'total_tokens': 113, 'completion_tokens_details': {'accepted_prediction_tokens': 0, 'audio_tokens': 0, 'reasoning_tokens': 0, 'rejected_prediction_tokens': 0}, 'prompt_tokens_details': {'audio_tokens': 0, 'cached_tokens': 0}}, 'model_name': 'gpt-4o-mini-2024-07-18', 'system_fingerprint': 'fp_06737a9306', 'finish_reason': 'tool_calls', 'logprobs': None}, name='supervisor', id='run-260e8ee1-b5a3-4066-8a9c-99d5b719df66-0', tool_calls=[{'name': 'transfer_to_sql_agent', 'args': {}, 'id': 'call_1dZaC74BBFX3AqvNgF04mhZX', 'type': 'tool_call'}], usage_metadata={'input_tokens': 100, 'output_tokens': 13, 'total_tokens': 113, 'input_token_details': {'audio': 0, 'cache_read': 0}, 'output_token_details': {'audio': 0, 'reasoning': 0}}),\n",
       "  ToolMessage(content='Successfully transferred to sql_agent', name='transfer_to_sql_agent', id='067c4fe5-4222-4884-88f6-ac7322f81293', tool_call_id='call_1dZaC74BBFX3AqvNgF04mhZX'),\n",
       "  AIMessage(content='The cheapest product is the \"Smart Plug\" with a price of $30.0.', additional_kwargs={'refusal': None}, response_metadata={'token_usage': {'completion_tokens': 20, 'prompt_tokens': 998, 'total_tokens': 1018, 'completion_tokens_details': {'accepted_prediction_tokens': 0, 'audio_tokens': 0, 'reasoning_tokens': 0, 'rejected_prediction_tokens': 0}, 'prompt_tokens_details': {'audio_tokens': 0, 'cached_tokens': 0}}, 'model_name': 'gpt-4o-mini-2024-07-18', 'system_fingerprint': 'fp_06737a9306', 'finish_reason': 'stop', 'logprobs': None}, name='sql_agent', id='run-e5823f11-0285-4ed2-a6a2-1aa60bd08f57-0', usage_metadata={'input_tokens': 998, 'output_tokens': 20, 'total_tokens': 1018, 'input_token_details': {'audio': 0, 'cache_read': 0}, 'output_token_details': {'audio': 0, 'reasoning': 0}}),\n",
       "  AIMessage(content='Transferring back to supervisor', additional_kwargs={}, response_metadata={}, name='sql_agent', id='a2b61381-88b2-4cf6-92b0-5756742ad0b2', tool_calls=[{'name': 'transfer_back_to_supervisor', 'args': {}, 'id': 'b9393d31-f044-418a-881d-d0ca95a47d97', 'type': 'tool_call'}]),\n",
       "  ToolMessage(content='Successfully transferred back to supervisor', name='transfer_back_to_supervisor', id='91d29419-4cfb-4d1b-8030-ed51e4b7a37a', tool_call_id='b9393d31-f044-418a-881d-d0ca95a47d97'),\n",
       "  AIMessage(content='The cheapest product is the \"Smart Plug,\" priced at $30.00.', additional_kwargs={'refusal': None}, response_metadata={'token_usage': {'completion_tokens': 18, 'prompt_tokens': 200, 'total_tokens': 218, 'completion_tokens_details': {'accepted_prediction_tokens': 0, 'audio_tokens': 0, 'reasoning_tokens': 0, 'rejected_prediction_tokens': 0}, 'prompt_tokens_details': {'audio_tokens': 0, 'cached_tokens': 0}}, 'model_name': 'gpt-4o-mini-2024-07-18', 'system_fingerprint': 'fp_06737a9306', 'finish_reason': 'stop', 'logprobs': None}, name='supervisor', id='run-64331583-3704-4ec4-b813-85cac819ead8-0', usage_metadata={'input_tokens': 200, 'output_tokens': 18, 'total_tokens': 218, 'input_token_details': {'audio': 0, 'cache_read': 0}, 'output_token_details': {'audio': 0, 'reasoning': 0}})]}"
      ]
     },
     "execution_count": 70,
     "metadata": {},
     "output_type": "execute_result"
    }
   ],
   "source": [
    "result"
   ]
  },
  {
   "cell_type": "code",
   "execution_count": null,
   "metadata": {},
   "outputs": [],
   "source": []
  }
 ],
 "metadata": {
  "kernelspec": {
   "display_name": ".venv",
   "language": "python",
   "name": "python3"
  },
  "language_info": {
   "codemirror_mode": {
    "name": "ipython",
    "version": 3
   },
   "file_extension": ".py",
   "mimetype": "text/x-python",
   "name": "python",
   "nbconvert_exporter": "python",
   "pygments_lexer": "ipython3",
   "version": "3.12.8"
  }
 },
 "nbformat": 4,
 "nbformat_minor": 2
}
